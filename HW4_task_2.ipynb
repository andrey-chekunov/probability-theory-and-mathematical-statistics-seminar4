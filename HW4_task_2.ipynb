{
 "cells": [
  {
   "attachments": {},
   "cell_type": "markdown",
   "metadata": {},
   "source": [
    "О случайной непрерывной равномерно распределенной величине $B$ известно, что ее\n",
    "дисперсия равна 0.2.\n",
    "\n",
    "Можно ли найти правую границу величины $B$ и ее среднее значение зная, что левая\n",
    "граница равна 0.5?\n",
    "\n",
    "Если да, найдите ее."
   ]
  },
  {
   "attachments": {},
   "cell_type": "markdown",
   "metadata": {},
   "source": [
    "Правая граница - $b$\n",
    "\n",
    "Левая граница - $a=0.5$\n",
    "\n",
    "Дисперсия $D(X) = \\frac {(b-a)^2}{12}=0.2$\n",
    "\n",
    "$ 0.2 = \\frac{(b-0.5)^2}{12}$\n",
    "\n",
    "$b-0.5=\\sqrt{2.4}$\n",
    "\n",
    "$b=0.5+\\sqrt{2.4}$"
   ]
  },
  {
   "cell_type": "code",
   "execution_count": 8,
   "metadata": {},
   "outputs": [
    {
     "name": "stdout",
     "output_type": "stream",
     "text": [
      "b =  2.049\n"
     ]
    }
   ],
   "source": [
    "b=0.5+2.4**0.5\n",
    "print(f'b = {b: .3f}')"
   ]
  },
  {
   "attachments": {},
   "cell_type": "markdown",
   "metadata": {},
   "source": [
    "Правая граница - $b=2.049$"
   ]
  },
  {
   "attachments": {},
   "cell_type": "markdown",
   "metadata": {},
   "source": [
    "$M(B)=\\frac{a+b}{2}$"
   ]
  },
  {
   "cell_type": "code",
   "execution_count": 9,
   "metadata": {},
   "outputs": [
    {
     "name": "stdout",
     "output_type": "stream",
     "text": [
      "ОТВЕТ:\n",
      "Среднее значение величины В:  1.274\n"
     ]
    }
   ],
   "source": [
    "MB=(0.5+2.049)/2\n",
    "print(f'ОТВЕТ:\\nСреднее значение величины В: {MB: .3f}')"
   ]
  }
 ],
 "metadata": {
  "kernelspec": {
   "display_name": "Python 3",
   "language": "python",
   "name": "python3"
  },
  "language_info": {
   "codemirror_mode": {
    "name": "ipython",
    "version": 3
   },
   "file_extension": ".py",
   "mimetype": "text/x-python",
   "name": "python",
   "nbconvert_exporter": "python",
   "pygments_lexer": "ipython3",
   "version": "3.10.7"
  },
  "orig_nbformat": 4,
  "vscode": {
   "interpreter": {
    "hash": "6847c98a8f86b01c6a19c518cd2f366693b80566b266804d5ca763cbb223f52b"
   }
  }
 },
 "nbformat": 4,
 "nbformat_minor": 2
}
