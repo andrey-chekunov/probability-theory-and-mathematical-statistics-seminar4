{
 "cells": [
  {
   "attachments": {},
   "cell_type": "markdown",
   "metadata": {},
   "source": [
    "Рост взрослого населения города X имеет нормальное распределение, причем, средний рост равен 174 см, а среднее квадратическое отклонение равно 8 см. посчитайте, какова вероятность того, что случайным образом выбранный взрослый человек имеет рост:\n",
    "\n",
    "1. больше 182 см?\n",
    "\n",
    "2. больше 190 см?\n",
    "\n",
    "3. от 166 см до 190 см?\n",
    "\n",
    "4. от 166 см до 182 см?\n",
    "\n",
    "5. от 158 см до 190 см?\n",
    "\n",
    "6. не выше 150 см или не ниже 190 см?\n",
    "\n",
    "7. не выше 150 см или не ниже 198 см?\n",
    "\n",
    "8. ниже 166 см?\n",
    "\n",
    "\n",
    "Задачу можно решить двумя способами: без использования сторонних библиотек (numpy, scipy, pandas и пр.), а затем проверить себя с помощью встроенных функций"
   ]
  },
  {
   "attachments": {},
   "cell_type": "markdown",
   "metadata": {},
   "source": [
    "Определение $Z$"
   ]
  },
  {
   "cell_type": "code",
   "execution_count": 1,
   "metadata": {},
   "outputs": [],
   "source": [
    "def z(height):\n",
    "    return (height-174)/8"
   ]
  },
  {
   "cell_type": "code",
   "execution_count": 10,
   "metadata": {},
   "outputs": [
    {
     "name": "stdout",
     "output_type": "stream",
     "text": [
      "1.0\n"
     ]
    }
   ],
   "source": [
    "from statistics import NormalDist\n",
    "print(z(182))"
   ]
  },
  {
   "attachments": {},
   "cell_type": "markdown",
   "metadata": {},
   "source": [
    "метод *cdf* определяет вероятность того, что случайная величина $X$ будет меньше или равна $x$, т.е в данном случае $P(X\\le182)$"
   ]
  },
  {
   "cell_type": "code",
   "execution_count": 3,
   "metadata": {},
   "outputs": [
    {
     "data": {
      "text/plain": [
       "0.8413447460685428"
      ]
     },
     "execution_count": 3,
     "metadata": {},
     "output_type": "execute_result"
    }
   ],
   "source": [
    "NormalDist().cdf(z(182))"
   ]
  },
  {
   "attachments": {},
   "cell_type": "markdown",
   "metadata": {},
   "source": [
    "Для определения вероятности $P(X\\ge182)$ необходимо $1 - P(X\\le182)$"
   ]
  },
  {
   "cell_type": "code",
   "execution_count": 20,
   "metadata": {},
   "outputs": [
    {
     "name": "stdout",
     "output_type": "stream",
     "text": [
      "ОТВЕТ:\n",
      " 1)  0.159\n"
     ]
    }
   ],
   "source": [
    "P1=1-NormalDist().cdf(z(182))\n",
    "print (f'ОТВЕТ:\\n 1) {P1: .3f}')"
   ]
  },
  {
   "cell_type": "code",
   "execution_count": 21,
   "metadata": {},
   "outputs": [
    {
     "name": "stdout",
     "output_type": "stream",
     "text": [
      "2.0\n",
      "ОТВЕТ:\n",
      " 2)  0.023\n"
     ]
    }
   ],
   "source": [
    "z1=z(190)\n",
    "print(z(190))\n",
    "P2=1-NormalDist().cdf(z1)\n",
    "print (f'ОТВЕТ:\\n 2) {P2: .3f}')"
   ]
  },
  {
   "cell_type": "code",
   "execution_count": 24,
   "metadata": {},
   "outputs": [
    {
     "name": "stdout",
     "output_type": "stream",
     "text": [
      "ОТВЕТ:\n",
      " 3)  0.819\n"
     ]
    }
   ],
   "source": [
    "zA=z(166)\n",
    "zB=z(190)\n",
    "P3=NormalDist().cdf(zB)-NormalDist().cdf(zA)\n",
    "print (f'ОТВЕТ:\\n 3) {P3: .3f}')"
   ]
  },
  {
   "cell_type": "code",
   "execution_count": 27,
   "metadata": {},
   "outputs": [
    {
     "name": "stdout",
     "output_type": "stream",
     "text": [
      "ОТВЕТ:\n",
      " 4)  0.683\n"
     ]
    }
   ],
   "source": [
    "zA=z(166)\n",
    "zB=z(182)\n",
    "P4=NormalDist().cdf(zB)-NormalDist().cdf(zA)\n",
    "print (f'ОТВЕТ:\\n 4) {P4: .3f}')"
   ]
  },
  {
   "cell_type": "code",
   "execution_count": 28,
   "metadata": {},
   "outputs": [
    {
     "name": "stdout",
     "output_type": "stream",
     "text": [
      "ОТВЕТ:\n",
      " 5)  0.954\n"
     ]
    }
   ],
   "source": [
    "zA=z(158)\n",
    "zB=z(190)\n",
    "P5=NormalDist().cdf(zB)-NormalDist().cdf(zA)\n",
    "print (f'ОТВЕТ:\\n 5) {P5: .3f}')"
   ]
  }
 ],
 "metadata": {
  "kernelspec": {
   "display_name": "Python 3",
   "language": "python",
   "name": "python3"
  },
  "language_info": {
   "codemirror_mode": {
    "name": "ipython",
    "version": 3
   },
   "file_extension": ".py",
   "mimetype": "text/x-python",
   "name": "python",
   "nbconvert_exporter": "python",
   "pygments_lexer": "ipython3",
   "version": "3.10.7"
  },
  "orig_nbformat": 4,
  "vscode": {
   "interpreter": {
    "hash": "6847c98a8f86b01c6a19c518cd2f366693b80566b266804d5ca763cbb223f52b"
   }
  }
 },
 "nbformat": 4,
 "nbformat_minor": 2
}
