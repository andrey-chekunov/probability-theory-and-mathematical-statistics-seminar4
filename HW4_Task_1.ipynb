{
 "cells": [
  {
   "attachments": {},
   "cell_type": "markdown",
   "metadata": {},
   "source": [
    "Случайная непрерывная величина $A$ имеет равномерное распределение на\n",
    "промежутке (200, 800].\n",
    "\n",
    "Найдите ее среднее значение и дисперсию."
   ]
  },
  {
   "attachments": {},
   "cell_type": "markdown",
   "metadata": {},
   "source": [
    "$M(X) = \\frac {a+b}{2}$\n",
    "\n",
    "$D(X) = \\frac {(b-a)^2}{12}$"
   ]
  },
  {
   "cell_type": "code",
   "execution_count": 2,
   "metadata": {},
   "outputs": [
    {
     "name": "stdout",
     "output_type": "stream",
     "text": [
      "ОТВЕТ:\n",
      "М(А) =  500.000\n",
      "D(A) =  30000.000\n"
     ]
    }
   ],
   "source": [
    "def mean_variance(a,b):\n",
    "    return f'ОТВЕТ:\\nМ(А) = {(a+b)/2: .3f}\\nD(A) = {((b-a)**2)/12: .3f}'\n",
    "print(mean_variance(200,800))"
   ]
  }
 ],
 "metadata": {
  "kernelspec": {
   "display_name": "Python 3",
   "language": "python",
   "name": "python3"
  },
  "language_info": {
   "codemirror_mode": {
    "name": "ipython",
    "version": 3
   },
   "file_extension": ".py",
   "mimetype": "text/x-python",
   "name": "python",
   "nbconvert_exporter": "python",
   "pygments_lexer": "ipython3",
   "version": "3.10.7"
  },
  "orig_nbformat": 4,
  "vscode": {
   "interpreter": {
    "hash": "6847c98a8f86b01c6a19c518cd2f366693b80566b266804d5ca763cbb223f52b"
   }
  }
 },
 "nbformat": 4,
 "nbformat_minor": 2
}
