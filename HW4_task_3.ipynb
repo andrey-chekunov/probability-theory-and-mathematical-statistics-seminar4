{
 "cells": [
  {
   "attachments": {},
   "cell_type": "markdown",
   "metadata": {},
   "source": [
    "Непрерывная случайная величина X распределена нормально и задана плотностью\n",
    "распределения\n",
    "$f(x) = \\frac {1}{4 \\cdot\\sqrt{2\\pi}}\\cdot e^{-\\frac{(x+2)^2}{32}}$\n",
    "Найдите:\n",
    "\n",
    "а) $M(X)$\n",
    "\n",
    "б) $D(X)$\n",
    "\n",
    "в) $\\sigma(X)$ (среднее квадратичное отклонение)"
   ]
  },
  {
   "attachments": {},
   "cell_type": "markdown",
   "metadata": {},
   "source": [
    "Формула плотности нормального распределения:\n",
    "\n",
    "$f(x)=\\frac{1}{\\sigma\\sqrt{2\\pi}}\\cdot e^{-\\frac{(x-a)^2}{2\\sigma^2}}$\n",
    "\n",
    "$\\rightarrow M(X)=a=-2\\\\\\sigma = 4\\\\ D(X)=\\sigma^2=16$"
   ]
  }
 ],
 "metadata": {
  "kernelspec": {
   "display_name": "Python 3",
   "language": "python",
   "name": "python3"
  },
  "language_info": {
   "name": "python",
   "version": "3.10.7 (tags/v3.10.7:6cc6b13, Sep  5 2022, 14:08:36) [MSC v.1933 64 bit (AMD64)]"
  },
  "orig_nbformat": 4,
  "vscode": {
   "interpreter": {
    "hash": "6847c98a8f86b01c6a19c518cd2f366693b80566b266804d5ca763cbb223f52b"
   }
  }
 },
 "nbformat": 4,
 "nbformat_minor": 2
}
